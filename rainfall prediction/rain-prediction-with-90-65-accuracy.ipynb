{
 "cells": [
  {
   "cell_type": "markdown",
   "metadata": {},
   "source": [
    "# **1. Importing the modules**"
   ]
  },
  {
   "cell_type": "code",
   "execution_count": 3,
   "metadata": {
    "execution": {
     "iopub.execute_input": "2021-09-27T08:12:10.320888Z",
     "iopub.status.busy": "2021-09-27T08:12:10.318293Z",
     "iopub.status.idle": "2021-09-27T08:12:10.328909Z",
     "shell.execute_reply": "2021-09-27T08:12:10.327613Z",
     "shell.execute_reply.started": "2021-09-27T08:12:10.320769Z"
    }
   },
   "outputs": [
    {
     "ename": "ModuleNotFoundError",
     "evalue": "No module named 'imblearn'",
     "output_type": "error",
     "traceback": [
      "\u001b[1;31m---------------------------------------------------------------------------\u001b[0m",
      "\u001b[1;31mModuleNotFoundError\u001b[0m                       Traceback (most recent call last)",
      "\u001b[1;32m<ipython-input-3-2ff215b5e5fa>\u001b[0m in \u001b[0;36m<module>\u001b[1;34m\u001b[0m\n\u001b[0;32m      9\u001b[0m \u001b[1;32mfrom\u001b[0m \u001b[0mscipy\u001b[0m \u001b[1;32mimport\u001b[0m \u001b[0mstats\u001b[0m\u001b[1;33m\u001b[0m\u001b[1;33m\u001b[0m\u001b[0m\n\u001b[0;32m     10\u001b[0m \u001b[1;32mfrom\u001b[0m \u001b[0msklearn\u001b[0m\u001b[1;33m.\u001b[0m\u001b[0mlinear_model\u001b[0m \u001b[1;32mimport\u001b[0m \u001b[0mLogisticRegression\u001b[0m\u001b[1;33m\u001b[0m\u001b[1;33m\u001b[0m\u001b[0m\n\u001b[1;32m---> 11\u001b[1;33m \u001b[1;32mfrom\u001b[0m \u001b[0mimblearn\u001b[0m\u001b[1;33m.\u001b[0m\u001b[0mover_sampling\u001b[0m \u001b[1;32mimport\u001b[0m \u001b[0mSMOTE\u001b[0m\u001b[1;33m\u001b[0m\u001b[1;33m\u001b[0m\u001b[0m\n\u001b[0m\u001b[0;32m     12\u001b[0m \u001b[1;32mfrom\u001b[0m \u001b[0mcollections\u001b[0m \u001b[1;32mimport\u001b[0m \u001b[0mCounter\u001b[0m\u001b[1;33m\u001b[0m\u001b[1;33m\u001b[0m\u001b[0m\n\u001b[0;32m     13\u001b[0m \u001b[1;32mfrom\u001b[0m \u001b[0msklearn\u001b[0m\u001b[1;33m.\u001b[0m\u001b[0mmetrics\u001b[0m \u001b[1;32mimport\u001b[0m \u001b[0mconfusion_matrix\u001b[0m\u001b[1;33m\u001b[0m\u001b[1;33m\u001b[0m\u001b[0m\n",
      "\u001b[1;31mModuleNotFoundError\u001b[0m: No module named 'imblearn'"
     ]
    }
   ],
   "source": [
    "import numpy as np \n",
    "import pandas as pd \n",
    "import os\n",
    "import missingno as msno\n",
    "import seaborn as sns\n",
    "import matplotlib.pyplot as plt\n",
    "from sklearn import preprocessing\n",
    "from sklearn.model_selection import train_test_split\n",
    "from scipy import stats\n",
    "from sklearn.linear_model import LogisticRegression\n",
    "from imblearn.over_sampling import SMOTE\n",
    "from collections import Counter\n",
    "from sklearn.metrics import confusion_matrix\n",
    "from sklearn.metrics import accuracy_score, f1_score\n",
    "from xgboost import XGBClassifier\n",
    "from sklearn.ensemble import RandomForestRegressor\n",
    "from sklearn.naive_bayes import BernoulliNB\n",
    "from sklearn.naive_bayes import GaussianNB\n",
    "from sklearn.svm import SVC\n",
    "from sklearn.ensemble import RandomForestRegressor\n",
    "import warnings\n",
    "\n",
    "warnings.filterwarnings(\"ignore\")\n"
   ]
  },
  {
   "cell_type": "markdown",
   "metadata": {},
   "source": [
    "# **1.2 Creating DataFrame**"
   ]
  },
  {
   "cell_type": "code",
   "execution_count": null,
   "metadata": {
    "execution": {
     "iopub.execute_input": "2021-09-27T08:12:10.348437Z",
     "iopub.status.busy": "2021-09-27T08:12:10.348046Z",
     "iopub.status.idle": "2021-09-27T08:12:10.711459Z",
     "shell.execute_reply": "2021-09-27T08:12:10.710527Z",
     "shell.execute_reply.started": "2021-09-27T08:12:10.34841Z"
    }
   },
   "outputs": [],
   "source": [
    "rain = pd.read_csv('weatherAUS.csv')\n",
    "rain.head(10)"
   ]
  },
  {
   "cell_type": "markdown",
   "metadata": {},
   "source": [
    "# **1.3 Shape of DataFrame**"
   ]
  },
  {
   "cell_type": "code",
   "execution_count": null,
   "metadata": {
    "execution": {
     "iopub.execute_input": "2021-09-27T08:12:10.713023Z",
     "iopub.status.busy": "2021-09-27T08:12:10.712765Z",
     "iopub.status.idle": "2021-09-27T08:12:10.717611Z",
     "shell.execute_reply": "2021-09-27T08:12:10.716681Z",
     "shell.execute_reply.started": "2021-09-27T08:12:10.712998Z"
    }
   },
   "outputs": [],
   "source": [
    "print(f'The number of rows are {rain.shape[0] } and the number of columns are {rain.shape[1]}')"
   ]
  },
  {
   "cell_type": "markdown",
   "metadata": {},
   "source": []
  },
  {
   "cell_type": "markdown",
   "metadata": {},
   "source": [
    "# **1.4 Describing the attributes**"
   ]
  },
  {
   "cell_type": "markdown",
   "metadata": {},
   "source": []
  },
  {
   "cell_type": "code",
   "execution_count": null,
   "metadata": {
    "execution": {
     "iopub.execute_input": "2021-09-27T08:12:10.7202Z",
     "iopub.status.busy": "2021-09-27T08:12:10.719937Z",
     "iopub.status.idle": "2021-09-27T08:12:10.779782Z",
     "shell.execute_reply": "2021-09-27T08:12:10.778756Z",
     "shell.execute_reply.started": "2021-09-27T08:12:10.720174Z"
    }
   },
   "outputs": [],
   "source": [
    "rain.info()"
   ]
  },
  {
   "cell_type": "markdown",
   "metadata": {},
   "source": [
    "**6 columns are of type 'object' and remaining of 'float'**"
   ]
  },
  {
   "cell_type": "markdown",
   "metadata": {},
   "source": []
  },
  {
   "cell_type": "markdown",
   "metadata": {},
   "source": [
    "# **1.5 Finding all the categorical and continuous values**"
   ]
  },
  {
   "cell_type": "code",
   "execution_count": null,
   "metadata": {
    "execution": {
     "iopub.execute_input": "2021-09-27T08:12:10.782629Z",
     "iopub.status.busy": "2021-09-27T08:12:10.782316Z",
     "iopub.status.idle": "2021-09-27T08:12:10.788535Z",
     "shell.execute_reply": "2021-09-27T08:12:10.787478Z",
     "shell.execute_reply.started": "2021-09-27T08:12:10.782598Z"
    }
   },
   "outputs": [],
   "source": [
    "categorical_col, contin_val=[],[]\n",
    "\n",
    "for i in rain.columns:\n",
    "    \n",
    "    if rain[i].dtype == 'object':\n",
    "        categorical_col.append(i)\n",
    "    else:\n",
    "        contin_val.append(i)\n",
    "        \n",
    "print(categorical_col)\n",
    "print(contin_val)"
   ]
  },
  {
   "cell_type": "markdown",
   "metadata": {},
   "source": [
    "# **1.6 Unique values**"
   ]
  },
  {
   "cell_type": "code",
   "execution_count": null,
   "metadata": {
    "execution": {
     "iopub.execute_input": "2021-09-27T08:12:10.790254Z",
     "iopub.status.busy": "2021-09-27T08:12:10.789965Z",
     "iopub.status.idle": "2021-09-27T08:12:10.943336Z",
     "shell.execute_reply": "2021-09-27T08:12:10.94258Z",
     "shell.execute_reply.started": "2021-09-27T08:12:10.790225Z"
    }
   },
   "outputs": [],
   "source": [
    "rain.nunique()\n"
   ]
  },
  {
   "cell_type": "markdown",
   "metadata": {},
   "source": [
    "# **1.6 Checking Null values**"
   ]
  },
  {
   "cell_type": "code",
   "execution_count": null,
   "metadata": {
    "execution": {
     "iopub.execute_input": "2021-09-27T08:12:10.944631Z",
     "iopub.status.busy": "2021-09-27T08:12:10.944378Z",
     "iopub.status.idle": "2021-09-27T08:12:10.998155Z",
     "shell.execute_reply": "2021-09-27T08:12:10.99717Z",
     "shell.execute_reply.started": "2021-09-27T08:12:10.944607Z"
    }
   },
   "outputs": [],
   "source": [
    "rain.isnull().sum()"
   ]
  },
  {
   "cell_type": "markdown",
   "metadata": {},
   "source": [
    "# **1.7 Visualizing the missing values**"
   ]
  },
  {
   "cell_type": "code",
   "execution_count": null,
   "metadata": {
    "execution": {
     "iopub.execute_input": "2021-09-27T08:12:11.001567Z",
     "iopub.status.busy": "2021-09-27T08:12:11.001285Z",
     "iopub.status.idle": "2021-09-27T08:12:12.504741Z",
     "shell.execute_reply": "2021-09-27T08:12:12.503758Z",
     "shell.execute_reply.started": "2021-09-27T08:12:11.00154Z"
    }
   },
   "outputs": [],
   "source": [
    "msno.matrix(rain)\n"
   ]
  },
  {
   "cell_type": "code",
   "execution_count": null,
   "metadata": {
    "execution": {
     "iopub.execute_input": "2021-09-27T08:12:12.506563Z",
     "iopub.status.busy": "2021-09-27T08:12:12.50622Z",
     "iopub.status.idle": "2021-09-27T08:12:14.10022Z",
     "shell.execute_reply": "2021-09-27T08:12:14.099259Z",
     "shell.execute_reply.started": "2021-09-27T08:12:12.506532Z"
    }
   },
   "outputs": [],
   "source": [
    "msno.bar(rain, sort='ascending')\n"
   ]
  },
  {
   "cell_type": "code",
   "execution_count": null,
   "metadata": {
    "execution": {
     "iopub.execute_input": "2021-09-27T08:12:14.101683Z",
     "iopub.status.busy": "2021-09-27T08:12:14.101385Z",
     "iopub.status.idle": "2021-09-27T08:12:15.676301Z",
     "shell.execute_reply": "2021-09-27T08:12:15.675617Z",
     "shell.execute_reply.started": "2021-09-27T08:12:14.101655Z"
    }
   },
   "outputs": [],
   "source": [
    "msno.heatmap(rain)\n"
   ]
  },
  {
   "cell_type": "markdown",
   "metadata": {},
   "source": [
    "The above graphs show that the number of missing values are high in: Sunshine, Evaporation, Cloud3pm and Cloud9am."
   ]
  },
  {
   "cell_type": "code",
   "execution_count": 4,
   "metadata": {
    "execution": {
     "iopub.execute_input": "2021-09-27T08:12:15.677629Z",
     "iopub.status.busy": "2021-09-27T08:12:15.677255Z",
     "iopub.status.idle": "2021-09-27T08:12:17.064821Z",
     "shell.execute_reply": "2021-09-27T08:12:17.064098Z",
     "shell.execute_reply.started": "2021-09-27T08:12:15.677602Z"
    }
   },
   "outputs": [
    {
     "ename": "NameError",
     "evalue": "name 'rain' is not defined",
     "output_type": "error",
     "traceback": [
      "\u001b[1;31m---------------------------------------------------------------------------\u001b[0m",
      "\u001b[1;31mNameError\u001b[0m                                 Traceback (most recent call last)",
      "\u001b[1;32m<ipython-input-4-ca88595c3559>\u001b[0m in \u001b[0;36m<module>\u001b[1;34m\u001b[0m\n\u001b[0;32m      1\u001b[0m \u001b[0mplt\u001b[0m\u001b[1;33m.\u001b[0m\u001b[0mfigure\u001b[0m\u001b[1;33m(\u001b[0m\u001b[0mfigsize\u001b[0m\u001b[1;33m=\u001b[0m\u001b[1;33m(\u001b[0m\u001b[1;36m17\u001b[0m\u001b[1;33m,\u001b[0m\u001b[1;36m15\u001b[0m\u001b[1;33m)\u001b[0m\u001b[1;33m)\u001b[0m\u001b[1;33m\u001b[0m\u001b[1;33m\u001b[0m\u001b[0m\n\u001b[1;32m----> 2\u001b[1;33m \u001b[0max\u001b[0m \u001b[1;33m=\u001b[0m \u001b[0msns\u001b[0m\u001b[1;33m.\u001b[0m\u001b[0mheatmap\u001b[0m\u001b[1;33m(\u001b[0m\u001b[0mrain\u001b[0m\u001b[1;33m.\u001b[0m\u001b[0mcorr\u001b[0m\u001b[1;33m(\u001b[0m\u001b[1;33m)\u001b[0m\u001b[1;33m,\u001b[0m \u001b[0msquare\u001b[0m\u001b[1;33m=\u001b[0m\u001b[1;32mTrue\u001b[0m\u001b[1;33m,\u001b[0m \u001b[0mannot\u001b[0m\u001b[1;33m=\u001b[0m\u001b[1;32mTrue\u001b[0m\u001b[1;33m,\u001b[0m \u001b[0mfmt\u001b[0m\u001b[1;33m=\u001b[0m\u001b[1;34m'.2f'\u001b[0m\u001b[1;33m)\u001b[0m\u001b[1;33m\u001b[0m\u001b[1;33m\u001b[0m\u001b[0m\n\u001b[0m\u001b[0;32m      3\u001b[0m \u001b[0max\u001b[0m\u001b[1;33m.\u001b[0m\u001b[0mset_xticklabels\u001b[0m\u001b[1;33m(\u001b[0m\u001b[0max\u001b[0m\u001b[1;33m.\u001b[0m\u001b[0mget_xticklabels\u001b[0m\u001b[1;33m(\u001b[0m\u001b[1;33m)\u001b[0m\u001b[1;33m,\u001b[0m \u001b[0mrotation\u001b[0m\u001b[1;33m=\u001b[0m\u001b[1;36m90\u001b[0m\u001b[1;33m)\u001b[0m\u001b[1;33m\u001b[0m\u001b[1;33m\u001b[0m\u001b[0m\n\u001b[0;32m      4\u001b[0m \u001b[0mplt\u001b[0m\u001b[1;33m.\u001b[0m\u001b[0mshow\u001b[0m\u001b[1;33m(\u001b[0m\u001b[1;33m)\u001b[0m\u001b[1;33m\u001b[0m\u001b[1;33m\u001b[0m\u001b[0m\n\u001b[0;32m      5\u001b[0m \u001b[1;33m\u001b[0m\u001b[0m\n",
      "\u001b[1;31mNameError\u001b[0m: name 'rain' is not defined"
     ]
    },
    {
     "data": {
      "text/plain": [
       "<Figure size 1224x1080 with 0 Axes>"
      ]
     },
     "metadata": {},
     "output_type": "display_data"
    }
   ],
   "source": [
    "plt.figure(figsize=(17,15))\n",
    "ax = sns.heatmap(rain.corr(), square=True, annot=True, fmt='.2f')\n",
    "ax.set_xticklabels(ax.get_xticklabels(), rotation=90)          \n",
    "plt.show()\n",
    "\n"
   ]
  },
  {
   "cell_type": "markdown",
   "metadata": {},
   "source": [
    "# **1.8 Changing yes and no to 1 and 0 in some columns**"
   ]
  },
  {
   "cell_type": "code",
   "execution_count": null,
   "metadata": {
    "execution": {
     "iopub.execute_input": "2021-09-27T08:12:17.066105Z",
     "iopub.status.busy": "2021-09-27T08:12:17.065724Z",
     "iopub.status.idle": "2021-09-27T08:12:17.104201Z",
     "shell.execute_reply": "2021-09-27T08:12:17.103451Z",
     "shell.execute_reply.started": "2021-09-27T08:12:17.066079Z"
    }
   },
   "outputs": [],
   "source": [
    "rain['RainTomorrow'] = rain['RainTomorrow'].map({'Yes': 1, 'No': 0})\n",
    "rain['RainToday'] = rain['RainToday'].map({'Yes': 1, 'No': 0})\n",
    "\n",
    "print(rain.RainToday)\n",
    "print(rain.RainTomorrow)\n"
   ]
  },
  {
   "cell_type": "markdown",
   "metadata": {},
   "source": [
    "# **1.9 Dealing with the missing values**"
   ]
  },
  {
   "cell_type": "code",
   "execution_count": null,
   "metadata": {
    "execution": {
     "iopub.execute_input": "2021-09-27T08:12:17.105511Z",
     "iopub.status.busy": "2021-09-27T08:12:17.105142Z",
     "iopub.status.idle": "2021-09-27T08:12:17.146669Z",
     "shell.execute_reply": "2021-09-27T08:12:17.145757Z",
     "shell.execute_reply.started": "2021-09-27T08:12:17.105484Z"
    }
   },
   "outputs": [],
   "source": [
    "#Checking percentage of missing data in every column\n",
    "\n",
    "(rain.isnull().sum()/len(rain))*100\n"
   ]
  },
  {
   "cell_type": "code",
   "execution_count": null,
   "metadata": {
    "execution": {
     "iopub.execute_input": "2021-09-27T08:12:17.147988Z",
     "iopub.status.busy": "2021-09-27T08:12:17.147735Z",
     "iopub.status.idle": "2021-09-27T08:12:17.17801Z",
     "shell.execute_reply": "2021-09-27T08:12:17.177029Z",
     "shell.execute_reply.started": "2021-09-27T08:12:17.147964Z"
    }
   },
   "outputs": [],
   "source": [
    "#Filling the missing values for continuous variables with mean\n",
    "rain['MinTemp']=rain['MinTemp'].fillna(rain['MinTemp'].mean())\n",
    "rain['MaxTemp']=rain['MinTemp'].fillna(rain['MaxTemp'].mean())\n",
    "rain['Rainfall']=rain['Rainfall'].fillna(rain['Rainfall'].mean())\n",
    "rain['Evaporation']=rain['Evaporation'].fillna(rain['Evaporation'].mean())\n",
    "rain['Sunshine']=rain['Sunshine'].fillna(rain['Sunshine'].mean())\n",
    "rain['WindGustSpeed']=rain['WindGustSpeed'].fillna(rain['WindGustSpeed'].mean())\n",
    "rain['WindSpeed9am']=rain['WindSpeed9am'].fillna(rain['WindSpeed9am'].mean())\n",
    "rain['WindSpeed3pm']=rain['WindSpeed3pm'].fillna(rain['WindSpeed3pm'].mean())\n",
    "rain['Humidity9am']=rain['Humidity9am'].fillna(rain['Humidity9am'].mean())\n",
    "rain['Humidity3pm']=rain['Humidity3pm'].fillna(rain['Humidity3pm'].mean())\n",
    "rain['Pressure9am']=rain['Pressure9am'].fillna(rain['Pressure9am'].mean())\n",
    "rain['Pressure3pm']=rain['Pressure3pm'].fillna(rain['Pressure3pm'].mean())\n",
    "rain['Cloud9am']=rain['Cloud9am'].fillna(rain['Cloud9am'].mean())\n",
    "rain['Cloud3pm']=rain['Cloud3pm'].fillna(rain['Cloud3pm'].mean())\n",
    "rain['Temp9am']=rain['Temp9am'].fillna(rain['Temp9am'].mean())\n",
    "rain['Temp3pm']=rain['Temp3pm'].fillna(rain['Temp3pm'].mean())"
   ]
  },
  {
   "cell_type": "code",
   "execution_count": null,
   "metadata": {
    "execution": {
     "iopub.execute_input": "2021-09-27T08:12:17.179523Z",
     "iopub.status.busy": "2021-09-27T08:12:17.179268Z",
     "iopub.status.idle": "2021-09-27T08:12:17.190107Z",
     "shell.execute_reply": "2021-09-27T08:12:17.188937Z",
     "shell.execute_reply.started": "2021-09-27T08:12:17.179499Z"
    }
   },
   "outputs": [],
   "source": [
    "#Filling the missing values for continuous variables with mode\n",
    "\n",
    "rain['RainToday']=rain['RainToday'].fillna(rain['RainToday'].mode()[0])\n",
    "rain['RainTomorrow']=rain['RainTomorrow'].fillna(rain['RainTomorrow'].mode()[0])\n"
   ]
  },
  {
   "cell_type": "code",
   "execution_count": null,
   "metadata": {
    "execution": {
     "iopub.execute_input": "2021-09-27T08:12:17.191797Z",
     "iopub.status.busy": "2021-09-27T08:12:17.191465Z",
     "iopub.status.idle": "2021-09-27T08:12:17.242773Z",
     "shell.execute_reply": "2021-09-27T08:12:17.241752Z",
     "shell.execute_reply.started": "2021-09-27T08:12:17.191768Z"
    }
   },
   "outputs": [],
   "source": [
    "#Filling the missing values for continuous variables with mode\n",
    "rain['WindDir9am'] = rain['WindDir9am'].fillna(rain['WindDir9am'].mode()[0])\n",
    "rain['WindGustDir'] = rain['WindGustDir'].fillna(rain['WindGustDir'].mode()[0])\n",
    "rain['WindDir3pm'] = rain['WindDir3pm'].fillna(rain['WindDir3pm'].mode()[0])"
   ]
  },
  {
   "cell_type": "code",
   "execution_count": null,
   "metadata": {
    "execution": {
     "iopub.execute_input": "2021-09-27T08:12:17.244383Z",
     "iopub.status.busy": "2021-09-27T08:12:17.244092Z",
     "iopub.status.idle": "2021-09-27T08:12:17.287505Z",
     "shell.execute_reply": "2021-09-27T08:12:17.286365Z",
     "shell.execute_reply.started": "2021-09-27T08:12:17.244356Z"
    }
   },
   "outputs": [],
   "source": [
    "#Checking percentage of missing data in every column\n",
    "\n",
    "(rain.isnull().sum()/len(rain))*100\n"
   ]
  },
  {
   "cell_type": "markdown",
   "metadata": {},
   "source": [
    "**All the missing values have been removed now.**"
   ]
  },
  {
   "cell_type": "markdown",
   "metadata": {},
   "source": [
    "# **2. Data Visualization**"
   ]
  },
  {
   "cell_type": "markdown",
   "metadata": {},
   "source": [
    "**2.1 Count of rain today and tomorrow**"
   ]
  },
  {
   "cell_type": "code",
   "execution_count": null,
   "metadata": {
    "execution": {
     "iopub.execute_input": "2021-09-27T08:12:17.289347Z",
     "iopub.status.busy": "2021-09-27T08:12:17.288961Z",
     "iopub.status.idle": "2021-09-27T08:12:17.494506Z",
     "shell.execute_reply": "2021-09-27T08:12:17.493403Z",
     "shell.execute_reply.started": "2021-09-27T08:12:17.289307Z"
    }
   },
   "outputs": [],
   "source": [
    "fig, ax =plt.subplots(1,2)\n",
    "print(rain.RainToday.value_counts())\n",
    "print(rain.RainTomorrow.value_counts())\n",
    "\n",
    "plt.figure(figsize=(20,20))\n",
    "sns.countplot(data=rain,x='RainToday',ax=ax[0])\n",
    "sns.countplot(data=rain,x='RainTomorrow',ax=ax[1])"
   ]
  },
  {
   "cell_type": "markdown",
   "metadata": {},
   "source": [
    "**2.2 Direction of wind at 9 am, 3 pm.**"
   ]
  },
  {
   "cell_type": "code",
   "execution_count": null,
   "metadata": {
    "execution": {
     "iopub.execute_input": "2021-09-27T08:12:17.496056Z",
     "iopub.status.busy": "2021-09-27T08:12:17.495764Z",
     "iopub.status.idle": "2021-09-27T08:12:18.487974Z",
     "shell.execute_reply": "2021-09-27T08:12:18.487244Z",
     "shell.execute_reply.started": "2021-09-27T08:12:17.496029Z"
    }
   },
   "outputs": [],
   "source": [
    "fig, ax =plt.subplots(3,1)\n",
    "plt.figure(figsize=(10,10))\n",
    "\n",
    "sns.countplot(data=rain,x='WindDir9am',ax=ax[0])\n",
    "sns.countplot(data=rain,x='WindDir3pm',ax=ax[1])\n",
    "sns.countplot(data=rain,x='WindGustDir',ax=ax[2])\n",
    "fig.tight_layout()\n"
   ]
  },
  {
   "cell_type": "markdown",
   "metadata": {},
   "source": [
    "* At 9 am, it is highest for direction N.\n",
    "* At 3 pm, it is highest for direction SE.\n"
   ]
  },
  {
   "cell_type": "markdown",
   "metadata": {},
   "source": []
  },
  {
   "cell_type": "code",
   "execution_count": null,
   "metadata": {
    "execution": {
     "iopub.execute_input": "2021-09-27T08:12:18.489356Z",
     "iopub.status.busy": "2021-09-27T08:12:18.488973Z",
     "iopub.status.idle": "2021-09-27T08:12:18.586494Z",
     "shell.execute_reply": "2021-09-27T08:12:18.585848Z",
     "shell.execute_reply.started": "2021-09-27T08:12:18.489318Z"
    }
   },
   "outputs": [],
   "source": [
    "#Dropping date column\n",
    "rain=rain.iloc[:,1:]\n",
    "rain"
   ]
  },
  {
   "cell_type": "markdown",
   "metadata": {},
   "source": [
    "**Encoding the categorical variables**"
   ]
  },
  {
   "cell_type": "code",
   "execution_count": null,
   "metadata": {
    "execution": {
     "iopub.execute_input": "2021-09-27T08:12:18.587891Z",
     "iopub.status.busy": "2021-09-27T08:12:18.587489Z",
     "iopub.status.idle": "2021-09-27T08:12:18.710867Z",
     "shell.execute_reply": "2021-09-27T08:12:18.71008Z",
     "shell.execute_reply.started": "2021-09-27T08:12:18.587845Z"
    }
   },
   "outputs": [],
   "source": [
    "le = preprocessing.LabelEncoder()\n",
    "rain['Location'] = le.fit_transform(rain['Location'])\n",
    "rain['WindDir9am'] = le.fit_transform(rain['WindDir9am'])\n",
    "rain['WindDir3pm'] = le.fit_transform(rain['WindDir3pm'])\n",
    "rain['WindGustDir'] = le.fit_transform(rain['WindGustDir'])\n",
    "\n"
   ]
  },
  {
   "cell_type": "code",
   "execution_count": null,
   "metadata": {
    "execution": {
     "iopub.execute_input": "2021-09-27T08:12:18.712267Z",
     "iopub.status.busy": "2021-09-27T08:12:18.711884Z",
     "iopub.status.idle": "2021-09-27T08:12:18.738507Z",
     "shell.execute_reply": "2021-09-27T08:12:18.737885Z",
     "shell.execute_reply.started": "2021-09-27T08:12:18.712229Z"
    }
   },
   "outputs": [],
   "source": [
    "rain.head(5)"
   ]
  },
  {
   "cell_type": "markdown",
   "metadata": {},
   "source": [
    "**2.3 HeatMap**"
   ]
  },
  {
   "cell_type": "code",
   "execution_count": null,
   "metadata": {},
   "outputs": [],
   "source": []
  },
  {
   "cell_type": "markdown",
   "metadata": {},
   "source": [
    "*  MinTemp and Temp9am highly correlated.\n",
    "*  MinTemp and Temp3pm highly correlated.\n",
    "*  MaxTemp and Temp9am highly correlated.\n",
    "*  MaxTemp and Temp3pm highly correlated.\n",
    "\n",
    "*  Temp3pm and Temp9am highly correlated.\n",
    "*  Humidity9am and Humidity3pm highly correlated."
   ]
  },
  {
   "cell_type": "code",
   "execution_count": null,
   "metadata": {},
   "outputs": [],
   "source": []
  },
  {
   "cell_type": "markdown",
   "metadata": {},
   "source": [
    "**2.4 Boxplots**"
   ]
  },
  {
   "cell_type": "code",
   "execution_count": null,
   "metadata": {
    "execution": {
     "iopub.execute_input": "2021-09-27T08:12:18.73985Z",
     "iopub.status.busy": "2021-09-27T08:12:18.739473Z",
     "iopub.status.idle": "2021-09-27T08:12:18.941274Z",
     "shell.execute_reply": "2021-09-27T08:12:18.940613Z",
     "shell.execute_reply.started": "2021-09-27T08:12:18.739814Z"
    }
   },
   "outputs": [],
   "source": [
    "fig, ax =plt.subplots(2,1)\n",
    "plt.figure(figsize=(10,10))\n",
    "sns.boxplot(rain['Humidity3pm'],orient='v',color='c',ax=ax[0])\n",
    "sns.boxplot(rain['Humidity9am'],orient='v',color='c',ax=ax[1])\n",
    "fig.tight_layout()\n"
   ]
  },
  {
   "cell_type": "code",
   "execution_count": null,
   "metadata": {
    "execution": {
     "iopub.execute_input": "2021-09-27T08:12:18.943071Z",
     "iopub.status.busy": "2021-09-27T08:12:18.942514Z",
     "iopub.status.idle": "2021-09-27T08:12:19.167604Z",
     "shell.execute_reply": "2021-09-27T08:12:19.166929Z",
     "shell.execute_reply.started": "2021-09-27T08:12:18.94303Z"
    }
   },
   "outputs": [],
   "source": [
    "fig, ax =plt.subplots(2,1)\n",
    "plt.figure(figsize=(10,10))\n",
    "sns.boxplot(rain['Pressure3pm'],orient='v',color='c',ax=ax[0])\n",
    "sns.boxplot(rain['Pressure9am'],orient='v',color='c',ax=ax[1])\n",
    "fig.tight_layout()\n"
   ]
  },
  {
   "cell_type": "markdown",
   "metadata": {},
   "source": [
    "****2.5 Bivariate Analysis****"
   ]
  },
  {
   "cell_type": "markdown",
   "metadata": {},
   "source": []
  },
  {
   "cell_type": "markdown",
   "metadata": {},
   "source": [
    "**Violin Plot**"
   ]
  },
  {
   "cell_type": "code",
   "execution_count": null,
   "metadata": {
    "execution": {
     "iopub.execute_input": "2021-09-27T08:12:19.169358Z",
     "iopub.status.busy": "2021-09-27T08:12:19.168806Z",
     "iopub.status.idle": "2021-09-27T08:12:19.978732Z",
     "shell.execute_reply": "2021-09-27T08:12:19.977741Z",
     "shell.execute_reply.started": "2021-09-27T08:12:19.169317Z"
    }
   },
   "outputs": [],
   "source": [
    "\n",
    "sns.violinplot(x='RainToday',y='MaxTemp',data=rain,hue='RainTomorrow')\n"
   ]
  },
  {
   "cell_type": "code",
   "execution_count": null,
   "metadata": {
    "execution": {
     "iopub.execute_input": "2021-09-27T08:12:19.98044Z",
     "iopub.status.busy": "2021-09-27T08:12:19.980088Z",
     "iopub.status.idle": "2021-09-27T08:12:20.780103Z",
     "shell.execute_reply": "2021-09-27T08:12:20.779363Z",
     "shell.execute_reply.started": "2021-09-27T08:12:19.9804Z"
    }
   },
   "outputs": [],
   "source": [
    "sns.violinplot(x='RainToday',y='MinTemp',data=rain,hue='RainTomorrow')\n"
   ]
  },
  {
   "cell_type": "markdown",
   "metadata": {},
   "source": [
    "**2.6 Removing the outliers**"
   ]
  },
  {
   "cell_type": "code",
   "execution_count": null,
   "metadata": {
    "execution": {
     "iopub.execute_input": "2021-09-27T08:12:20.781666Z",
     "iopub.status.busy": "2021-09-27T08:12:20.781216Z",
     "iopub.status.idle": "2021-09-27T08:12:20.869888Z",
     "shell.execute_reply": "2021-09-27T08:12:20.868846Z",
     "shell.execute_reply.started": "2021-09-27T08:12:20.781636Z"
    }
   },
   "outputs": [],
   "source": [
    "print('Shape of DataFrame Before Removing Outliers', rain.shape )\n",
    "rain=rain[(np.abs(stats.zscore(rain)) < 3).all(axis=1)]\n",
    "print('Shape of DataFrame After Removing Outliers', rain.shape )\n"
   ]
  },
  {
   "cell_type": "markdown",
   "metadata": {},
   "source": []
  },
  {
   "cell_type": "markdown",
   "metadata": {},
   "source": [
    "**2.7 Dropping highly correlated columns**"
   ]
  },
  {
   "cell_type": "code",
   "execution_count": null,
   "metadata": {
    "execution": {
     "iopub.execute_input": "2021-09-27T08:12:20.874521Z",
     "iopub.status.busy": "2021-09-27T08:12:20.874226Z",
     "iopub.status.idle": "2021-09-27T08:12:20.886617Z",
     "shell.execute_reply": "2021-09-27T08:12:20.885508Z",
     "shell.execute_reply.started": "2021-09-27T08:12:20.87449Z"
    }
   },
   "outputs": [],
   "source": [
    "rain=rain.drop(['Temp3pm','Temp9am','Humidity9am'],axis=1)\n",
    "rain.columns"
   ]
  },
  {
   "cell_type": "markdown",
   "metadata": {},
   "source": [
    "**2.8 Train test split**"
   ]
  },
  {
   "cell_type": "code",
   "execution_count": null,
   "metadata": {
    "execution": {
     "iopub.execute_input": "2021-09-27T08:12:20.889196Z",
     "iopub.status.busy": "2021-09-27T08:12:20.888507Z",
     "iopub.status.idle": "2021-09-27T08:12:20.928833Z",
     "shell.execute_reply": "2021-09-27T08:12:20.927987Z",
     "shell.execute_reply.started": "2021-09-27T08:12:20.889154Z"
    }
   },
   "outputs": [],
   "source": [
    "x_train, x_test, y_train, y_test = train_test_split(rain.iloc[:,:-1], rain.iloc[:,-1], test_size=0.2, random_state=42)\n"
   ]
  },
  {
   "cell_type": "markdown",
   "metadata": {},
   "source": [
    "**2.9 Balancing the data using SMOTE**"
   ]
  },
  {
   "cell_type": "code",
   "execution_count": null,
   "metadata": {
    "execution": {
     "iopub.execute_input": "2021-09-27T08:12:20.93059Z",
     "iopub.status.busy": "2021-09-27T08:12:20.930013Z",
     "iopub.status.idle": "2021-09-27T08:12:32.505713Z",
     "shell.execute_reply": "2021-09-27T08:12:32.504904Z",
     "shell.execute_reply.started": "2021-09-27T08:12:20.930533Z"
    }
   },
   "outputs": [],
   "source": [
    "os = SMOTE()\n",
    "x_train, y_train = os.fit_resample(x_train, y_train)\n",
    "count = Counter(y_train)\n",
    "print(count)"
   ]
  },
  {
   "cell_type": "markdown",
   "metadata": {},
   "source": [
    "# **3. Training The Models**"
   ]
  },
  {
   "cell_type": "markdown",
   "metadata": {},
   "source": [
    "**3.1 Logistic Regression**"
   ]
  },
  {
   "cell_type": "code",
   "execution_count": null,
   "metadata": {
    "execution": {
     "iopub.execute_input": "2021-09-27T08:12:32.507611Z",
     "iopub.status.busy": "2021-09-27T08:12:32.507187Z",
     "iopub.status.idle": "2021-09-27T08:12:53.545729Z",
     "shell.execute_reply": "2021-09-27T08:12:53.544663Z",
     "shell.execute_reply.started": "2021-09-27T08:12:32.507548Z"
    }
   },
   "outputs": [],
   "source": [
    "model = LogisticRegression(max_iter=500)\n",
    "model.fit(x_train, y_train)\n",
    "predicted=model.predict(x_test)\n",
    "\n",
    "conf = confusion_matrix(y_test, predicted)\n",
    "print (\"The accuracy of Logistic Regression is : \", accuracy_score(y_test, predicted)*100, \"%\")\n",
    "print()\n",
    "print(\"F1 score for logistic regression is :\",f1_score(y_test, predicted,)*100, \"%\")\n"
   ]
  },
  {
   "cell_type": "markdown",
   "metadata": {},
   "source": [
    "**3.2 XGBoost**"
   ]
  },
  {
   "cell_type": "code",
   "execution_count": null,
   "metadata": {
    "execution": {
     "iopub.execute_input": "2021-09-27T08:12:53.548194Z",
     "iopub.status.busy": "2021-09-27T08:12:53.547464Z",
     "iopub.status.idle": "2021-09-27T08:13:10.112047Z",
     "shell.execute_reply": "2021-09-27T08:13:10.11129Z",
     "shell.execute_reply.started": "2021-09-27T08:12:53.548147Z"
    }
   },
   "outputs": [],
   "source": [
    "xgbc = XGBClassifier(objective='binary:logistic')\n",
    "xgbc.fit(x_train,y_train)\n",
    "predicted = xgbc.predict(x_test)\n",
    "print (\"The accuracy of Logistic Regression is : \", accuracy_score(y_test, predicted)*100, \"%\")\n",
    "print()\n",
    "print(\"F1 score for XGBoost is :\",f1_score(y_test, predicted,)*100, \"%\")\n"
   ]
  },
  {
   "cell_type": "markdown",
   "metadata": {},
   "source": [
    "**3.3 Gaussian Naive Bayes**"
   ]
  },
  {
   "cell_type": "code",
   "execution_count": null,
   "metadata": {
    "execution": {
     "iopub.execute_input": "2021-09-27T08:13:10.113325Z",
     "iopub.status.busy": "2021-09-27T08:13:10.113086Z",
     "iopub.status.idle": "2021-09-27T08:13:10.225842Z",
     "shell.execute_reply": "2021-09-27T08:13:10.224774Z",
     "shell.execute_reply.started": "2021-09-27T08:13:10.113301Z"
    }
   },
   "outputs": [],
   "source": [
    "model = GaussianNB()\n",
    "model.fit(x_train, y_train)\n",
    "  \n",
    "predicted = model.predict(x_test)\n",
    "  \n",
    "print(\"The accuracy of Gaussian Naive Bayes model is : \", accuracy_score(y_test, predicted)*100, \"%\")\n",
    "print()\n",
    "print(\"F1 score for Gaussian Naive Bayes is :\",f1_score(y_test, predicted,)*100, \"%\")\n"
   ]
  },
  {
   "cell_type": "markdown",
   "metadata": {},
   "source": [
    "**3.4 Bernoulli Naive Bayes**"
   ]
  },
  {
   "cell_type": "code",
   "execution_count": null,
   "metadata": {
    "execution": {
     "iopub.execute_input": "2021-09-27T08:13:10.227317Z",
     "iopub.status.busy": "2021-09-27T08:13:10.227047Z",
     "iopub.status.idle": "2021-09-27T08:13:10.37517Z",
     "shell.execute_reply": "2021-09-27T08:13:10.373997Z",
     "shell.execute_reply.started": "2021-09-27T08:13:10.227291Z"
    }
   },
   "outputs": [],
   "source": [
    "model = BernoulliNB()\n",
    "model.fit(x_train, y_train)\n",
    "  \n",
    "predicted = model.predict(x_test)\n",
    "  \n",
    "print(\"The accuracy of Gaussian Naive Bayes model is : \", accuracy_score(y_test, predicted)*100, \"%\")\n",
    "print()\n",
    "print(\"F1 score for Bernoulli Naive Bayes is :\",f1_score(y_test, predicted,)*100, \"%\")"
   ]
  },
  {
   "cell_type": "markdown",
   "metadata": {},
   "source": [
    "**3.5 RandomForest**"
   ]
  },
  {
   "cell_type": "code",
   "execution_count": null,
   "metadata": {
    "execution": {
     "iopub.execute_input": "2021-09-27T08:13:10.383238Z",
     "iopub.status.busy": "2021-09-27T08:13:10.380532Z",
     "iopub.status.idle": "2021-09-27T08:16:21.383975Z",
     "shell.execute_reply": "2021-09-27T08:16:21.382943Z",
     "shell.execute_reply.started": "2021-09-27T08:13:10.383175Z"
    }
   },
   "outputs": [],
   "source": [
    "model = RandomForestRegressor(n_estimators = 100, random_state = 0)  \n",
    "model.fit(x_train, y_train)  \n",
    "predicted = model.predict(x_test)\n",
    "print(\"The accuracy of Random Forest is : \", accuracy_score(y_test, predicted.round())*100, \"%\")\n"
   ]
  }
 ],
 "metadata": {
  "kernelspec": {
   "display_name": "Python 3",
   "language": "python",
   "name": "python3"
  },
  "language_info": {
   "codemirror_mode": {
    "name": "ipython",
    "version": 3
   },
   "file_extension": ".py",
   "mimetype": "text/x-python",
   "name": "python",
   "nbconvert_exporter": "python",
   "pygments_lexer": "ipython3",
   "version": "3.7.6"
  }
 },
 "nbformat": 4,
 "nbformat_minor": 4
}
